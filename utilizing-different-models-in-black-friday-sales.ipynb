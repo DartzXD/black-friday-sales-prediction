{
 "cells": [
  {
   "cell_type": "code",
   "execution_count": 1,
   "id": "b695a03a",
   "metadata": {
    "execution": {
     "iopub.execute_input": "2022-02-07T06:43:58.487439Z",
     "iopub.status.busy": "2022-02-07T06:43:58.482523Z",
     "iopub.status.idle": "2022-02-07T06:43:58.492300Z",
     "shell.execute_reply": "2022-02-07T06:43:58.492947Z",
     "shell.execute_reply.started": "2022-02-06T03:32:01.597309Z"
    },
    "papermill": {
     "duration": 0.039031,
     "end_time": "2022-02-07T06:43:58.493332",
     "exception": false,
     "start_time": "2022-02-07T06:43:58.454301",
     "status": "completed"
    },
    "tags": []
   },
   "outputs": [],
   "source": [
    "import numpy as np\n",
    "import pandas as pd\n",
    "import matplotlib.pyplot as plt"
   ]
  },
  {
   "cell_type": "code",
   "execution_count": 2,
   "id": "041aefba",
   "metadata": {
    "execution": {
     "iopub.execute_input": "2022-02-07T06:43:58.551179Z",
     "iopub.status.busy": "2022-02-07T06:43:58.550283Z",
     "iopub.status.idle": "2022-02-07T06:43:59.531784Z",
     "shell.execute_reply": "2022-02-07T06:43:59.531173Z",
     "shell.execute_reply.started": "2022-02-06T03:32:01.605799Z"
    },
    "papermill": {
     "duration": 1.013491,
     "end_time": "2022-02-07T06:43:59.531939",
     "exception": false,
     "start_time": "2022-02-07T06:43:58.518448",
     "status": "completed"
    },
    "tags": []
   },
   "outputs": [],
   "source": [
    "dataset = pd.read_csv('../input/black-friday/train.csv')"
   ]
  },
  {
   "cell_type": "code",
   "execution_count": 3,
   "id": "9f631b1f",
   "metadata": {
    "execution": {
     "iopub.execute_input": "2022-02-07T06:43:59.585314Z",
     "iopub.status.busy": "2022-02-07T06:43:59.584446Z",
     "iopub.status.idle": "2022-02-07T06:43:59.589350Z",
     "shell.execute_reply": "2022-02-07T06:43:59.588737Z",
     "shell.execute_reply.started": "2022-02-06T03:32:02.580029Z"
    },
    "papermill": {
     "duration": 0.034549,
     "end_time": "2022-02-07T06:43:59.589502",
     "exception": false,
     "start_time": "2022-02-07T06:43:59.554953",
     "status": "completed"
    },
    "tags": []
   },
   "outputs": [
    {
     "data": {
      "text/plain": [
       "(550068, 12)"
      ]
     },
     "execution_count": 3,
     "metadata": {},
     "output_type": "execute_result"
    }
   ],
   "source": [
    "# Check the shape of the dataset\n",
    "dataset.shape"
   ]
  },
  {
   "cell_type": "markdown",
   "id": "04eb179b",
   "metadata": {
    "papermill": {
     "duration": 0.022706,
     "end_time": "2022-02-07T06:43:59.635941",
     "exception": false,
     "start_time": "2022-02-07T06:43:59.613235",
     "status": "completed"
    },
    "tags": []
   },
   "source": [
    "##### There are 550,068 rows and 12 columns"
   ]
  },
  {
   "cell_type": "code",
   "execution_count": 4,
   "id": "07dffb5b",
   "metadata": {
    "execution": {
     "iopub.execute_input": "2022-02-07T06:43:59.685849Z",
     "iopub.status.busy": "2022-02-07T06:43:59.685155Z",
     "iopub.status.idle": "2022-02-07T06:43:59.959521Z",
     "shell.execute_reply": "2022-02-07T06:43:59.958455Z",
     "shell.execute_reply.started": "2022-02-06T03:32:02.59005Z"
    },
    "papermill": {
     "duration": 0.300769,
     "end_time": "2022-02-07T06:43:59.959761",
     "exception": false,
     "start_time": "2022-02-07T06:43:59.658992",
     "status": "completed"
    },
    "tags": []
   },
   "outputs": [
    {
     "name": "stdout",
     "output_type": "stream",
     "text": [
      "<class 'pandas.core.frame.DataFrame'>\n",
      "RangeIndex: 550068 entries, 0 to 550067\n",
      "Data columns (total 12 columns):\n",
      " #   Column                      Non-Null Count   Dtype  \n",
      "---  ------                      --------------   -----  \n",
      " 0   User_ID                     550068 non-null  int64  \n",
      " 1   Product_ID                  550068 non-null  object \n",
      " 2   Gender                      550068 non-null  object \n",
      " 3   Age                         550068 non-null  object \n",
      " 4   Occupation                  550068 non-null  int64  \n",
      " 5   City_Category               550068 non-null  object \n",
      " 6   Stay_In_Current_City_Years  550068 non-null  object \n",
      " 7   Marital_Status              550068 non-null  int64  \n",
      " 8   Product_Category_1          550068 non-null  int64  \n",
      " 9   Product_Category_2          376430 non-null  float64\n",
      " 10  Product_Category_3          166821 non-null  float64\n",
      " 11  Purchase                    550068 non-null  int64  \n",
      "dtypes: float64(2), int64(5), object(5)\n",
      "memory usage: 50.4+ MB\n"
     ]
    }
   ],
   "source": [
    "# Check the dataset if there is a missing values\n",
    "dataset.info()"
   ]
  },
  {
   "cell_type": "markdown",
   "id": "fa948031",
   "metadata": {
    "papermill": {
     "duration": 0.023281,
     "end_time": "2022-02-07T06:44:00.007994",
     "exception": false,
     "start_time": "2022-02-07T06:43:59.984713",
     "status": "completed"
    },
    "tags": []
   },
   "source": [
    "#### We can see that some columns/features have missing values."
   ]
  },
  {
   "cell_type": "code",
   "execution_count": 5,
   "id": "427d5f38",
   "metadata": {
    "execution": {
     "iopub.execute_input": "2022-02-07T06:44:00.060777Z",
     "iopub.status.busy": "2022-02-07T06:44:00.059929Z",
     "iopub.status.idle": "2022-02-07T06:44:00.314067Z",
     "shell.execute_reply": "2022-02-07T06:44:00.314715Z",
     "shell.execute_reply.started": "2022-02-06T03:32:02.941206Z"
    },
    "papermill": {
     "duration": 0.283034,
     "end_time": "2022-02-07T06:44:00.314923",
     "exception": false,
     "start_time": "2022-02-07T06:44:00.031889",
     "status": "completed"
    },
    "tags": []
   },
   "outputs": [
    {
     "data": {
      "text/plain": [
       "User_ID                            0\n",
       "Product_ID                         0\n",
       "Gender                             0\n",
       "Age                                0\n",
       "Occupation                         0\n",
       "City_Category                      0\n",
       "Stay_In_Current_City_Years         0\n",
       "Marital_Status                     0\n",
       "Product_Category_1                 0\n",
       "Product_Category_2            173638\n",
       "Product_Category_3            383247\n",
       "Purchase                           0\n",
       "dtype: int64"
      ]
     },
     "execution_count": 5,
     "metadata": {},
     "output_type": "execute_result"
    }
   ],
   "source": [
    "# Check the total missing values on a specific column\n",
    "dataset.isnull().sum()"
   ]
  },
  {
   "cell_type": "markdown",
   "id": "1fd4a52f",
   "metadata": {
    "papermill": {
     "duration": 0.024386,
     "end_time": "2022-02-07T06:44:00.364725",
     "exception": false,
     "start_time": "2022-02-07T06:44:00.340339",
     "status": "completed"
    },
    "tags": []
   },
   "source": [
    "#### Product Category 2 has 32% missing data while Product Category 3 has 70% missing data. Hence, we need to fill the null values to the average value of certain column"
   ]
  },
  {
   "cell_type": "code",
   "execution_count": 6,
   "id": "e9023cde",
   "metadata": {
    "execution": {
     "iopub.execute_input": "2022-02-07T06:44:00.420923Z",
     "iopub.status.busy": "2022-02-07T06:44:00.420184Z",
     "iopub.status.idle": "2022-02-07T06:44:01.729868Z",
     "shell.execute_reply": "2022-02-07T06:44:01.729063Z",
     "shell.execute_reply.started": "2022-02-06T03:32:03.250995Z"
    },
    "papermill": {
     "duration": 1.340237,
     "end_time": "2022-02-07T06:44:01.730034",
     "exception": false,
     "start_time": "2022-02-07T06:44:00.389797",
     "status": "completed"
    },
    "tags": []
   },
   "outputs": [],
   "source": [
    "# Fill the missing values in Product Category 2 and 3\n",
    "from sklearn.impute import SimpleImputer\n",
    "imputer = SimpleImputer(missing_values=np.nan, strategy='mean')\n",
    "dataset['Product_Category_2'] = imputer.fit_transform(dataset['Product_Category_2'].to_numpy().reshape(-1,1))\n",
    "dataset['Product_Category_3'] = imputer.fit_transform(dataset['Product_Category_3'].to_numpy().reshape(-1,1))"
   ]
  },
  {
   "cell_type": "code",
   "execution_count": 7,
   "id": "a112c9ac",
   "metadata": {
    "execution": {
     "iopub.execute_input": "2022-02-07T06:44:01.784449Z",
     "iopub.status.busy": "2022-02-07T06:44:01.783703Z",
     "iopub.status.idle": "2022-02-07T06:44:02.040676Z",
     "shell.execute_reply": "2022-02-07T06:44:02.041458Z",
     "shell.execute_reply.started": "2022-02-06T03:32:04.479833Z"
    },
    "papermill": {
     "duration": 0.287119,
     "end_time": "2022-02-07T06:44:02.041660",
     "exception": false,
     "start_time": "2022-02-07T06:44:01.754541",
     "status": "completed"
    },
    "tags": []
   },
   "outputs": [
    {
     "name": "stdout",
     "output_type": "stream",
     "text": [
      "<class 'pandas.core.frame.DataFrame'>\n",
      "RangeIndex: 550068 entries, 0 to 550067\n",
      "Data columns (total 12 columns):\n",
      " #   Column                      Non-Null Count   Dtype  \n",
      "---  ------                      --------------   -----  \n",
      " 0   User_ID                     550068 non-null  int64  \n",
      " 1   Product_ID                  550068 non-null  object \n",
      " 2   Gender                      550068 non-null  object \n",
      " 3   Age                         550068 non-null  object \n",
      " 4   Occupation                  550068 non-null  int64  \n",
      " 5   City_Category               550068 non-null  object \n",
      " 6   Stay_In_Current_City_Years  550068 non-null  object \n",
      " 7   Marital_Status              550068 non-null  int64  \n",
      " 8   Product_Category_1          550068 non-null  int64  \n",
      " 9   Product_Category_2          550068 non-null  float64\n",
      " 10  Product_Category_3          550068 non-null  float64\n",
      " 11  Purchase                    550068 non-null  int64  \n",
      "dtypes: float64(2), int64(5), object(5)\n",
      "memory usage: 50.4+ MB\n"
     ]
    }
   ],
   "source": [
    "# Let's check again our dataset\n",
    "dataset.info()"
   ]
  },
  {
   "cell_type": "markdown",
   "id": "0e1b8e96",
   "metadata": {
    "papermill": {
     "duration": 0.025795,
     "end_time": "2022-02-07T06:44:02.092189",
     "exception": false,
     "start_time": "2022-02-07T06:44:02.066394",
     "status": "completed"
    },
    "tags": []
   },
   "source": [
    "#### Now we have to convert the Product_Category 2 & 3 from float to int data type."
   ]
  },
  {
   "cell_type": "code",
   "execution_count": 8,
   "id": "ca5a7b89",
   "metadata": {
    "execution": {
     "iopub.execute_input": "2022-02-07T06:44:02.147333Z",
     "iopub.status.busy": "2022-02-07T06:44:02.146581Z",
     "iopub.status.idle": "2022-02-07T06:44:02.155838Z",
     "shell.execute_reply": "2022-02-07T06:44:02.156406Z",
     "shell.execute_reply.started": "2022-02-06T03:32:04.790386Z"
    },
    "papermill": {
     "duration": 0.039661,
     "end_time": "2022-02-07T06:44:02.156607",
     "exception": false,
     "start_time": "2022-02-07T06:44:02.116946",
     "status": "completed"
    },
    "tags": []
   },
   "outputs": [],
   "source": [
    "dataset['Product_Category_2'] = dataset['Product_Category_2'].astype('int64')\n",
    "dataset['Product_Category_3'] = dataset['Product_Category_3'].astype('int64')"
   ]
  },
  {
   "cell_type": "code",
   "execution_count": 9,
   "id": "f18c426a",
   "metadata": {
    "execution": {
     "iopub.execute_input": "2022-02-07T06:44:02.449998Z",
     "iopub.status.busy": "2022-02-07T06:44:02.212710Z",
     "iopub.status.idle": "2022-02-07T06:44:02.473644Z",
     "shell.execute_reply": "2022-02-07T06:44:02.474253Z",
     "shell.execute_reply.started": "2022-02-06T03:32:04.805506Z"
    },
    "papermill": {
     "duration": 0.292412,
     "end_time": "2022-02-07T06:44:02.474452",
     "exception": false,
     "start_time": "2022-02-07T06:44:02.182040",
     "status": "completed"
    },
    "tags": []
   },
   "outputs": [
    {
     "name": "stdout",
     "output_type": "stream",
     "text": [
      "<class 'pandas.core.frame.DataFrame'>\n",
      "RangeIndex: 550068 entries, 0 to 550067\n",
      "Data columns (total 12 columns):\n",
      " #   Column                      Non-Null Count   Dtype \n",
      "---  ------                      --------------   ----- \n",
      " 0   User_ID                     550068 non-null  int64 \n",
      " 1   Product_ID                  550068 non-null  object\n",
      " 2   Gender                      550068 non-null  object\n",
      " 3   Age                         550068 non-null  object\n",
      " 4   Occupation                  550068 non-null  int64 \n",
      " 5   City_Category               550068 non-null  object\n",
      " 6   Stay_In_Current_City_Years  550068 non-null  object\n",
      " 7   Marital_Status              550068 non-null  int64 \n",
      " 8   Product_Category_1          550068 non-null  int64 \n",
      " 9   Product_Category_2          550068 non-null  int64 \n",
      " 10  Product_Category_3          550068 non-null  int64 \n",
      " 11  Purchase                    550068 non-null  int64 \n",
      "dtypes: int64(7), object(5)\n",
      "memory usage: 50.4+ MB\n"
     ]
    }
   ],
   "source": [
    "dataset.info()"
   ]
  },
  {
   "cell_type": "markdown",
   "id": "73bc423b",
   "metadata": {
    "papermill": {
     "duration": 0.025266,
     "end_time": "2022-02-07T06:44:02.524736",
     "exception": false,
     "start_time": "2022-02-07T06:44:02.499470",
     "status": "completed"
    },
    "tags": []
   },
   "source": [
    "#### Now we have to convert categorical values to numerical values. We will be using LabelEncoder for the Gender, Age (Age_Group), City category, and Stay in current city years."
   ]
  },
  {
   "cell_type": "code",
   "execution_count": 10,
   "id": "63b193bf",
   "metadata": {
    "execution": {
     "iopub.execute_input": "2022-02-07T06:44:02.581004Z",
     "iopub.status.busy": "2022-02-07T06:44:02.579860Z",
     "iopub.status.idle": "2022-02-07T06:44:03.159116Z",
     "shell.execute_reply": "2022-02-07T06:44:03.158493Z",
     "shell.execute_reply.started": "2022-02-06T03:32:05.119419Z"
    },
    "papermill": {
     "duration": 0.608478,
     "end_time": "2022-02-07T06:44:03.159303",
     "exception": false,
     "start_time": "2022-02-07T06:44:02.550825",
     "status": "completed"
    },
    "tags": []
   },
   "outputs": [],
   "source": [
    "from sklearn.preprocessing import LabelEncoder\n",
    "le = LabelEncoder()\n",
    "dataset['Gender'] = le.fit_transform(dataset['Gender']).astype('int64')\n",
    "dataset['Age'] = le.fit_transform(dataset['Age']).astype('int64')\n",
    "dataset['City_Category'] = le.fit_transform(dataset['City_Category']).astype('int64')\n",
    "dataset['Stay_In_Current_City_Years'] = le.fit_transform(dataset['Stay_In_Current_City_Years']).astype('int64')"
   ]
  },
  {
   "cell_type": "markdown",
   "id": "d9686bd2",
   "metadata": {
    "papermill": {
     "duration": 0.024881,
     "end_time": "2022-02-07T06:44:03.209518",
     "exception": false,
     "start_time": "2022-02-07T06:44:03.184637",
     "status": "completed"
    },
    "tags": []
   },
   "source": [
    "#### Now we have to drop the User_ID and Product_ID to avoid bias in the data."
   ]
  },
  {
   "cell_type": "code",
   "execution_count": 11,
   "id": "53d952d0",
   "metadata": {
    "execution": {
     "iopub.execute_input": "2022-02-07T06:44:03.263854Z",
     "iopub.status.busy": "2022-02-07T06:44:03.263168Z",
     "iopub.status.idle": "2022-02-07T06:44:03.351028Z",
     "shell.execute_reply": "2022-02-07T06:44:03.350351Z",
     "shell.execute_reply.started": "2022-02-06T03:32:05.739601Z"
    },
    "papermill": {
     "duration": 0.11594,
     "end_time": "2022-02-07T06:44:03.351233",
     "exception": false,
     "start_time": "2022-02-07T06:44:03.235293",
     "status": "completed"
    },
    "tags": []
   },
   "outputs": [
    {
     "name": "stdout",
     "output_type": "stream",
     "text": [
      "<class 'pandas.core.frame.DataFrame'>\n",
      "RangeIndex: 550068 entries, 0 to 550067\n",
      "Data columns (total 10 columns):\n",
      " #   Column                      Non-Null Count   Dtype\n",
      "---  ------                      --------------   -----\n",
      " 0   Gender                      550068 non-null  int64\n",
      " 1   Age                         550068 non-null  int64\n",
      " 2   Occupation                  550068 non-null  int64\n",
      " 3   City_Category               550068 non-null  int64\n",
      " 4   Stay_In_Current_City_Years  550068 non-null  int64\n",
      " 5   Marital_Status              550068 non-null  int64\n",
      " 6   Product_Category_1          550068 non-null  int64\n",
      " 7   Product_Category_2          550068 non-null  int64\n",
      " 8   Product_Category_3          550068 non-null  int64\n",
      " 9   Purchase                    550068 non-null  int64\n",
      "dtypes: int64(10)\n",
      "memory usage: 42.0 MB\n"
     ]
    }
   ],
   "source": [
    "# Drop User_ID and Product_ID columns\n",
    "dataset = dataset.drop(columns=['User_ID', 'Product_ID'], axis=1)\n",
    "dataset.info()"
   ]
  },
  {
   "cell_type": "markdown",
   "id": "cefbc046",
   "metadata": {
    "papermill": {
     "duration": 0.026164,
     "end_time": "2022-02-07T06:44:03.402781",
     "exception": false,
     "start_time": "2022-02-07T06:44:03.376617",
     "status": "completed"
    },
    "tags": []
   },
   "source": [
    "#### Now, we are ready to train and test split our final dataset"
   ]
  },
  {
   "cell_type": "code",
   "execution_count": 12,
   "id": "932ecc56",
   "metadata": {
    "execution": {
     "iopub.execute_input": "2022-02-07T06:44:03.457697Z",
     "iopub.status.busy": "2022-02-07T06:44:03.456927Z",
     "iopub.status.idle": "2022-02-07T06:44:03.565441Z",
     "shell.execute_reply": "2022-02-07T06:44:03.565964Z",
     "shell.execute_reply.started": "2022-02-06T03:32:05.828138Z"
    },
    "papermill": {
     "duration": 0.137923,
     "end_time": "2022-02-07T06:44:03.566241",
     "exception": false,
     "start_time": "2022-02-07T06:44:03.428318",
     "status": "completed"
    },
    "tags": []
   },
   "outputs": [],
   "source": [
    "# Creating X and y\n",
    "X = dataset.iloc[:, :-1].values\n",
    "y = dataset.iloc[:, -1].values\n",
    "\n",
    "# Train and test split\n",
    "from sklearn.model_selection import train_test_split\n",
    "X_train, X_test, y_train, y_test = train_test_split(X, y,\n",
    "                                test_size = 0.25, random_state = 0)"
   ]
  },
  {
   "cell_type": "markdown",
   "id": "e087ffa1",
   "metadata": {
    "papermill": {
     "duration": 0.026084,
     "end_time": "2022-02-07T06:44:03.618184",
     "exception": false,
     "start_time": "2022-02-07T06:44:03.592100",
     "status": "completed"
    },
    "tags": []
   },
   "source": [
    "#### Before we create our model, we need to standardization our dataset to have more accuracy"
   ]
  },
  {
   "cell_type": "code",
   "execution_count": 13,
   "id": "e7030df0",
   "metadata": {
    "execution": {
     "iopub.execute_input": "2022-02-07T06:44:03.675038Z",
     "iopub.status.busy": "2022-02-07T06:44:03.671507Z",
     "iopub.status.idle": "2022-02-07T06:44:03.829505Z",
     "shell.execute_reply": "2022-02-07T06:44:03.828760Z",
     "shell.execute_reply.started": "2022-02-06T03:32:05.936504Z"
    },
    "papermill": {
     "duration": 0.186295,
     "end_time": "2022-02-07T06:44:03.829660",
     "exception": false,
     "start_time": "2022-02-07T06:44:03.643365",
     "status": "completed"
    },
    "tags": []
   },
   "outputs": [],
   "source": [
    "# Standarization\n",
    "from sklearn.preprocessing import StandardScaler\n",
    "sc = StandardScaler()\n",
    "X_train[:, 1:] = sc.fit_transform(X_train[:, 1:])\n",
    "X_test[:, 1:] = sc.transform(X_test[:, 1:])"
   ]
  },
  {
   "cell_type": "code",
   "execution_count": 14,
   "id": "bd02af05",
   "metadata": {
    "execution": {
     "iopub.execute_input": "2022-02-07T06:44:03.884738Z",
     "iopub.status.busy": "2022-02-07T06:44:03.883977Z",
     "iopub.status.idle": "2022-02-07T06:44:03.887374Z",
     "shell.execute_reply": "2022-02-07T06:44:03.886781Z",
     "shell.execute_reply.started": "2022-02-06T03:32:06.08318Z"
    },
    "papermill": {
     "duration": 0.033042,
     "end_time": "2022-02-07T06:44:03.887601",
     "exception": false,
     "start_time": "2022-02-07T06:44:03.854559",
     "status": "completed"
    },
    "tags": []
   },
   "outputs": [],
   "source": [
    "# Import our evaluation metrics\n",
    "from sklearn.metrics import mean_squared_error"
   ]
  },
  {
   "cell_type": "markdown",
   "id": "be1ed31e",
   "metadata": {
    "papermill": {
     "duration": 0.02487,
     "end_time": "2022-02-07T06:44:03.938710",
     "exception": false,
     "start_time": "2022-02-07T06:44:03.913840",
     "status": "completed"
    },
    "tags": []
   },
   "source": [
    "#### Build our regression models"
   ]
  },
  {
   "cell_type": "code",
   "execution_count": 15,
   "id": "0d39d45e",
   "metadata": {
    "execution": {
     "iopub.execute_input": "2022-02-07T06:44:03.996913Z",
     "iopub.status.busy": "2022-02-07T06:44:03.996111Z",
     "iopub.status.idle": "2022-02-07T06:44:41.349069Z",
     "shell.execute_reply": "2022-02-07T06:44:41.350237Z",
     "shell.execute_reply.started": "2022-02-06T03:32:06.090206Z"
    },
    "papermill": {
     "duration": 37.386529,
     "end_time": "2022-02-07T06:44:41.350631",
     "exception": false,
     "start_time": "2022-02-07T06:44:03.964102",
     "status": "completed"
    },
    "tags": []
   },
   "outputs": [
    {
     "name": "stdout",
     "output_type": "stream",
     "text": [
      "Polynomial Regression\n",
      "Root Mean Squared Error: 3968.28%\n"
     ]
    }
   ],
   "source": [
    "# Fitting Polynomial Regression to the dataset &\n",
    "# applying Polynomial Regression model\n",
    "from sklearn.linear_model import LinearRegression\n",
    "from sklearn.preprocessing import PolynomialFeatures\n",
    "poly_reg = PolynomialFeatures(degree=4)\n",
    "X_poly = poly_reg.fit_transform(X_train)\n",
    "poly = LinearRegression()\n",
    "poly.fit(X_poly, y_train)\n",
    "y_pred = poly.predict(poly_reg.fit_transform(X_test))\n",
    "\n",
    "# Polynomial Regression\n",
    "print(\"Polynomial Regression\")\n",
    "# Root Mean Squared Error\n",
    "print(\"Root Mean Squared Error: {:.2f}%\".format(mean_squared_error(y_test, y_pred, squared=False)))\n",
    "pr_rmse = mean_squared_error(y_test, y_pred, squared=False)"
   ]
  },
  {
   "cell_type": "code",
   "execution_count": 16,
   "id": "af946149",
   "metadata": {
    "execution": {
     "iopub.execute_input": "2022-02-07T06:44:41.431444Z",
     "iopub.status.busy": "2022-02-07T06:44:41.430700Z",
     "iopub.status.idle": "2022-02-07T06:44:41.713501Z",
     "shell.execute_reply": "2022-02-07T06:44:41.715186Z",
     "shell.execute_reply.started": "2022-02-06T03:32:41.441536Z"
    },
    "papermill": {
     "duration": 0.318288,
     "end_time": "2022-02-07T06:44:41.715546",
     "exception": false,
     "start_time": "2022-02-07T06:44:41.397258",
     "status": "completed"
    },
    "tags": []
   },
   "outputs": [
    {
     "name": "stdout",
     "output_type": "stream",
     "text": [
      "Bayesian Ridge Regression\n",
      "Root Mean Squared Error: 4679.03%\n"
     ]
    }
   ],
   "source": [
    "# Build Bayesian Ridge Regression Model\n",
    "from sklearn.linear_model import BayesianRidge\n",
    "br = BayesianRidge()\n",
    "br.fit(X_train, y_train)\n",
    "y_pred = br.predict(X_test)\n",
    "\n",
    "# Bayesian Ridge Regression\n",
    "print(\"Bayesian Ridge Regression\")\n",
    "# Root Mean Squared Error\n",
    "print(\"Root Mean Squared Error: {:.2f}%\".format(mean_squared_error(y_test, y_pred, squared=False)))\n",
    "br_rmse = mean_squared_error(y_test, y_pred, squared=False)"
   ]
  },
  {
   "cell_type": "code",
   "execution_count": 17,
   "id": "1f722405",
   "metadata": {
    "execution": {
     "iopub.execute_input": "2022-02-07T06:44:41.828710Z",
     "iopub.status.busy": "2022-02-07T06:44:41.827193Z",
     "iopub.status.idle": "2022-02-07T06:44:41.963533Z",
     "shell.execute_reply": "2022-02-07T06:44:41.965153Z",
     "shell.execute_reply.started": "2022-02-06T03:32:41.769216Z"
    },
    "papermill": {
     "duration": 0.191101,
     "end_time": "2022-02-07T06:44:41.965516",
     "exception": false,
     "start_time": "2022-02-07T06:44:41.774415",
     "status": "completed"
    },
    "tags": []
   },
   "outputs": [
    {
     "name": "stdout",
     "output_type": "stream",
     "text": [
      "ElasticNet Regression\n",
      "Root Mean Squared Error: 4752.06%\n"
     ]
    }
   ],
   "source": [
    "# Build ElasticNet Regression model\n",
    "from sklearn.linear_model import ElasticNet\n",
    "en = ElasticNet()\n",
    "en.fit(X_train, y_train)\n",
    "y_pred = en.predict(X_test)\n",
    "\n",
    "# ElasticNet Regression\n",
    "print(\"ElasticNet Regression\")\n",
    "# Root Mean Squared Error\n",
    "print(\"Root Mean Squared Error: {:.2f}%\".format(mean_squared_error(y_test, y_pred, squared=False)))\n",
    "en_rmse = mean_squared_error(y_test, y_pred, squared=False)"
   ]
  },
  {
   "cell_type": "code",
   "execution_count": 18,
   "id": "d8228d8e",
   "metadata": {
    "execution": {
     "iopub.execute_input": "2022-02-07T06:44:42.084164Z",
     "iopub.status.busy": "2022-02-07T06:44:42.083310Z",
     "iopub.status.idle": "2022-02-07T07:21:51.645673Z",
     "shell.execute_reply": "2022-02-07T07:21:51.646242Z"
    },
    "papermill": {
     "duration": 2229.630863,
     "end_time": "2022-02-07T07:21:51.646489",
     "exception": false,
     "start_time": "2022-02-07T06:44:42.015626",
     "status": "completed"
    },
    "tags": []
   },
   "outputs": [
    {
     "name": "stderr",
     "output_type": "stream",
     "text": [
      "\n",
      "User settings:\n",
      "\n",
      "   KMP_AFFINITY=granularity=fine,noverbose,compact,1,0\n",
      "   KMP_BLOCKTIME=0\n",
      "   KMP_DUPLICATE_LIB_OK=True\n",
      "   KMP_INIT_AT_FORK=FALSE\n",
      "   KMP_SETTINGS=1\n",
      "   KMP_WARNINGS=0\n",
      "\n",
      "Effective settings:\n",
      "\n",
      "   KMP_ABORT_DELAY=0\n",
      "   KMP_ADAPTIVE_LOCK_PROPS='1,1024'\n",
      "   KMP_ALIGN_ALLOC=64\n",
      "   KMP_ALL_THREADPRIVATE=128\n",
      "   KMP_ATOMIC_MODE=2\n",
      "   KMP_BLOCKTIME=0\n",
      "   KMP_CPUINFO_FILE: value is not defined\n",
      "   KMP_DETERMINISTIC_REDUCTION=false\n",
      "   KMP_DEVICE_THREAD_LIMIT=2147483647\n",
      "   KMP_DISP_NUM_BUFFERS=7\n",
      "   KMP_DUPLICATE_LIB_OK=true\n",
      "   KMP_ENABLE_TASK_THROTTLING=true\n",
      "   KMP_FORCE_REDUCTION: value is not defined\n",
      "   KMP_FOREIGN_THREADS_THREADPRIVATE=true\n",
      "   KMP_FORKJOIN_BARRIER='2,2'\n",
      "   KMP_FORKJOIN_BARRIER_PATTERN='hyper,hyper'\n",
      "   KMP_GTID_MODE=3\n",
      "   KMP_HANDLE_SIGNALS=false\n",
      "   KMP_HOT_TEAMS_MAX_LEVEL=1\n",
      "   KMP_HOT_TEAMS_MODE=0\n",
      "   KMP_INIT_AT_FORK=true\n",
      "   KMP_LIBRARY=throughput\n",
      "   KMP_LOCK_KIND=queuing\n",
      "   KMP_MALLOC_POOL_INCR=1M\n",
      "   KMP_NUM_LOCKS_IN_BLOCK=1\n",
      "   KMP_PLAIN_BARRIER='2,2'\n",
      "   KMP_PLAIN_BARRIER_PATTERN='hyper,hyper'\n",
      "   KMP_REDUCTION_BARRIER='1,1'\n",
      "   KMP_REDUCTION_BARRIER_PATTERN='hyper,hyper'\n",
      "   KMP_SCHEDULE='static,balanced;guided,iterative'\n",
      "   KMP_SETTINGS=true\n",
      "   KMP_SPIN_BACKOFF_PARAMS='4096,100'\n",
      "   KMP_STACKOFFSET=64\n",
      "   KMP_STACKPAD=0\n",
      "   KMP_STACKSIZE=8M\n",
      "   KMP_STORAGE_MAP=false\n",
      "   KMP_TASKING=2\n",
      "   KMP_TASKLOOP_MIN_TASKS=0\n",
      "   KMP_TASK_STEALING_CONSTRAINT=1\n",
      "   KMP_TEAMS_THREAD_LIMIT=4\n",
      "   KMP_TOPOLOGY_METHOD=all\n",
      "   KMP_USE_YIELD=1\n",
      "   KMP_VERSION=false\n",
      "   KMP_WARNINGS=false\n",
      "   OMP_AFFINITY_FORMAT='OMP: pid %P tid %i thread %n bound to OS proc set {%A}'\n",
      "   OMP_ALLOCATOR=omp_default_mem_alloc\n",
      "   OMP_CANCELLATION=false\n",
      "   OMP_DEFAULT_DEVICE=0\n",
      "   OMP_DISPLAY_AFFINITY=false\n",
      "   OMP_DISPLAY_ENV=false\n",
      "   OMP_DYNAMIC=false\n",
      "   OMP_MAX_ACTIVE_LEVELS=1\n",
      "   OMP_MAX_TASK_PRIORITY=0\n",
      "   OMP_NESTED: deprecated; max-active-levels-var=1\n",
      "   OMP_NUM_THREADS: value is not defined\n",
      "   OMP_PLACES: value is not defined\n",
      "   OMP_PROC_BIND='intel'\n",
      "   OMP_SCHEDULE='static'\n",
      "   OMP_STACKSIZE=8M\n",
      "   OMP_TARGET_OFFLOAD=DEFAULT\n",
      "   OMP_THREAD_LIMIT=2147483647\n",
      "   OMP_WAIT_POLICY=PASSIVE\n",
      "   KMP_AFFINITY='noverbose,warnings,respect,granularity=fine,compact,1,0'\n",
      "\n",
      "2022-02-07 06:44:48.359211: I tensorflow/core/common_runtime/process_util.cc:146] Creating new thread pool with default inter op setting: 2. Tune using inter_op_parallelism_threads for best performance.\n",
      "2022-02-07 06:44:48.518055: I tensorflow/compiler/mlir/mlir_graph_optimization_pass.cc:185] None of the MLIR Optimization Passes are enabled (registered 2)\n"
     ]
    },
    {
     "name": "stdout",
     "output_type": "stream",
     "text": [
      "Epoch 1/100\n",
      "12893/12893 [==============================] - 22s 2ms/step - loss: 110962592.0000 - mse: 110962592.0000\n",
      "Epoch 2/100\n",
      "12893/12893 [==============================] - 22s 2ms/step - loss: 110962552.0000 - mse: 110962552.0000\n",
      "Epoch 3/100\n",
      "12893/12893 [==============================] - 21s 2ms/step - loss: 110962624.0000 - mse: 110962624.0000\n",
      "Epoch 4/100\n",
      "12893/12893 [==============================] - 21s 2ms/step - loss: 110962600.0000 - mse: 110962600.0000\n",
      "Epoch 5/100\n",
      "12893/12893 [==============================] - 21s 2ms/step - loss: 110962544.0000 - mse: 110962544.0000\n",
      "Epoch 6/100\n",
      "12893/12893 [==============================] - 21s 2ms/step - loss: 110962312.0000 - mse: 110962312.0000\n",
      "Epoch 7/100\n",
      "12893/12893 [==============================] - 21s 2ms/step - loss: 110962296.0000 - mse: 110962296.0000\n",
      "Epoch 8/100\n",
      "12893/12893 [==============================] - 22s 2ms/step - loss: 110962096.0000 - mse: 110962096.0000\n",
      "Epoch 9/100\n",
      "12893/12893 [==============================] - 22s 2ms/step - loss: 110962672.0000 - mse: 110962672.0000\n",
      "Epoch 10/100\n",
      "12893/12893 [==============================] - 21s 2ms/step - loss: 110962744.0000 - mse: 110962744.0000\n",
      "Epoch 11/100\n",
      "12893/12893 [==============================] - 21s 2ms/step - loss: 110962712.0000 - mse: 110962712.0000\n",
      "Epoch 12/100\n",
      "12893/12893 [==============================] - 22s 2ms/step - loss: 110962816.0000 - mse: 110962816.0000\n",
      "Epoch 13/100\n",
      "12893/12893 [==============================] - 21s 2ms/step - loss: 110962528.0000 - mse: 110962528.0000\n",
      "Epoch 14/100\n",
      "12893/12893 [==============================] - 21s 2ms/step - loss: 110962248.0000 - mse: 110962248.0000\n",
      "Epoch 15/100\n",
      "12893/12893 [==============================] - 21s 2ms/step - loss: 110962400.0000 - mse: 110962400.0000\n",
      "Epoch 16/100\n",
      "12893/12893 [==============================] - 22s 2ms/step - loss: 110962696.0000 - mse: 110962696.0000\n",
      "Epoch 17/100\n",
      "12893/12893 [==============================] - 22s 2ms/step - loss: 110962672.0000 - mse: 110962672.0000\n",
      "Epoch 18/100\n",
      "12893/12893 [==============================] - 22s 2ms/step - loss: 110962624.0000 - mse: 110962624.0000\n",
      "Epoch 19/100\n",
      "12893/12893 [==============================] - 21s 2ms/step - loss: 110962776.0000 - mse: 110962776.0000\n",
      "Epoch 20/100\n",
      "12893/12893 [==============================] - 22s 2ms/step - loss: 110962584.0000 - mse: 110962584.0000\n",
      "Epoch 21/100\n",
      "12893/12893 [==============================] - 22s 2ms/step - loss: 110962280.0000 - mse: 110962280.0000\n",
      "Epoch 22/100\n",
      "12893/12893 [==============================] - 22s 2ms/step - loss: 110962752.0000 - mse: 110962752.0000\n",
      "Epoch 23/100\n",
      "12893/12893 [==============================] - 23s 2ms/step - loss: 110963104.0000 - mse: 110963104.0000\n",
      "Epoch 24/100\n",
      "12893/12893 [==============================] - 22s 2ms/step - loss: 110962440.0000 - mse: 110962440.0000\n",
      "Epoch 25/100\n",
      "12893/12893 [==============================] - 22s 2ms/step - loss: 110962584.0000 - mse: 110962584.0000\n",
      "Epoch 26/100\n",
      "12893/12893 [==============================] - 22s 2ms/step - loss: 110962976.0000 - mse: 110962976.0000\n",
      "Epoch 27/100\n",
      "12893/12893 [==============================] - 21s 2ms/step - loss: 110962808.0000 - mse: 110962808.0000\n",
      "Epoch 28/100\n",
      "12893/12893 [==============================] - 22s 2ms/step - loss: 110962768.0000 - mse: 110962768.0000\n",
      "Epoch 29/100\n",
      "12893/12893 [==============================] - 22s 2ms/step - loss: 110962656.0000 - mse: 110962656.0000\n",
      "Epoch 30/100\n",
      "12893/12893 [==============================] - 22s 2ms/step - loss: 110962528.0000 - mse: 110962528.0000\n",
      "Epoch 31/100\n",
      "12893/12893 [==============================] - 22s 2ms/step - loss: 110962208.0000 - mse: 110962208.0000\n",
      "Epoch 32/100\n",
      "12893/12893 [==============================] - 21s 2ms/step - loss: 110962336.0000 - mse: 110962336.0000\n",
      "Epoch 33/100\n",
      "12893/12893 [==============================] - 23s 2ms/step - loss: 110962824.0000 - mse: 110962824.0000\n",
      "Epoch 34/100\n",
      "12893/12893 [==============================] - 21s 2ms/step - loss: 110962488.0000 - mse: 110962488.0000\n",
      "Epoch 35/100\n",
      "12893/12893 [==============================] - 22s 2ms/step - loss: 110962520.0000 - mse: 110962520.0000\n",
      "Epoch 36/100\n",
      "12893/12893 [==============================] - 23s 2ms/step - loss: 110962352.0000 - mse: 110962352.0000\n",
      "Epoch 37/100\n",
      "12893/12893 [==============================] - 21s 2ms/step - loss: 110962376.0000 - mse: 110962376.0000\n",
      "Epoch 38/100\n",
      "12893/12893 [==============================] - 21s 2ms/step - loss: 110962696.0000 - mse: 110962696.0000\n",
      "Epoch 39/100\n",
      "12893/12893 [==============================] - 23s 2ms/step - loss: 110962640.0000 - mse: 110962640.0000\n",
      "Epoch 40/100\n",
      "12893/12893 [==============================] - 21s 2ms/step - loss: 110962848.0000 - mse: 110962848.0000\n",
      "Epoch 41/100\n",
      "12893/12893 [==============================] - 21s 2ms/step - loss: 110962880.0000 - mse: 110962880.0000\n",
      "Epoch 42/100\n",
      "12893/12893 [==============================] - 22s 2ms/step - loss: 110962072.0000 - mse: 110962072.0000\n",
      "Epoch 43/100\n",
      "12893/12893 [==============================] - 22s 2ms/step - loss: 110962528.0000 - mse: 110962528.0000\n",
      "Epoch 44/100\n",
      "12893/12893 [==============================] - 24s 2ms/step - loss: 110962552.0000 - mse: 110962552.0000\n",
      "Epoch 45/100\n",
      "12893/12893 [==============================] - 25s 2ms/step - loss: 110962744.0000 - mse: 110962744.0000\n",
      "Epoch 46/100\n",
      "12893/12893 [==============================] - 23s 2ms/step - loss: 110962704.0000 - mse: 110962704.0000\n",
      "Epoch 47/100\n",
      "12893/12893 [==============================] - 22s 2ms/step - loss: 110962528.0000 - mse: 110962528.0000\n",
      "Epoch 48/100\n",
      "12893/12893 [==============================] - 23s 2ms/step - loss: 110962432.0000 - mse: 110962432.0000\n",
      "Epoch 49/100\n",
      "12893/12893 [==============================] - 23s 2ms/step - loss: 110962256.0000 - mse: 110962256.0000\n",
      "Epoch 50/100\n",
      "12893/12893 [==============================] - 23s 2ms/step - loss: 110962864.0000 - mse: 110962864.0000\n",
      "Epoch 51/100\n",
      "12893/12893 [==============================] - 22s 2ms/step - loss: 110962592.0000 - mse: 110962592.0000\n",
      "Epoch 52/100\n",
      "12893/12893 [==============================] - 23s 2ms/step - loss: 110962728.0000 - mse: 110962728.0000\n",
      "Epoch 53/100\n",
      "12893/12893 [==============================] - 22s 2ms/step - loss: 110962864.0000 - mse: 110962864.0000\n",
      "Epoch 54/100\n",
      "12893/12893 [==============================] - 21s 2ms/step - loss: 110962824.0000 - mse: 110962824.0000\n",
      "Epoch 55/100\n",
      "12893/12893 [==============================] - 23s 2ms/step - loss: 110962824.0000 - mse: 110962824.0000\n",
      "Epoch 56/100\n",
      "12893/12893 [==============================] - 22s 2ms/step - loss: 110962824.0000 - mse: 110962824.0000\n",
      "Epoch 57/100\n",
      "12893/12893 [==============================] - 21s 2ms/step - loss: 110962664.0000 - mse: 110962664.0000\n",
      "Epoch 58/100\n",
      "12893/12893 [==============================] - 23s 2ms/step - loss: 110962920.0000 - mse: 110962920.0000\n",
      "Epoch 59/100\n",
      "12893/12893 [==============================] - 24s 2ms/step - loss: 110962632.0000 - mse: 110962632.0000\n",
      "Epoch 60/100\n",
      "12893/12893 [==============================] - 22s 2ms/step - loss: 110962968.0000 - mse: 110962968.0000\n",
      "Epoch 61/100\n",
      "12893/12893 [==============================] - 23s 2ms/step - loss: 110962904.0000 - mse: 110962904.0000\n",
      "Epoch 62/100\n",
      "12893/12893 [==============================] - 23s 2ms/step - loss: 110962688.0000 - mse: 110962688.0000\n",
      "Epoch 63/100\n",
      "12893/12893 [==============================] - 24s 2ms/step - loss: 110962368.0000 - mse: 110962368.0000\n",
      "Epoch 64/100\n",
      "12893/12893 [==============================] - 22s 2ms/step - loss: 110962512.0000 - mse: 110962512.0000\n",
      "Epoch 65/100\n",
      "12893/12893 [==============================] - 24s 2ms/step - loss: 110962488.0000 - mse: 110962488.0000\n",
      "Epoch 66/100\n",
      "12893/12893 [==============================] - 23s 2ms/step - loss: 110962200.0000 - mse: 110962200.0000\n",
      "Epoch 67/100\n",
      "12893/12893 [==============================] - 24s 2ms/step - loss: 110962920.0000 - mse: 110962920.0000\n",
      "Epoch 68/100\n",
      "12893/12893 [==============================] - 23s 2ms/step - loss: 110962656.0000 - mse: 110962656.0000\n",
      "Epoch 69/100\n",
      "12893/12893 [==============================] - 23s 2ms/step - loss: 110962616.0000 - mse: 110962616.0000\n",
      "Epoch 70/100\n",
      "12893/12893 [==============================] - 25s 2ms/step - loss: 110963152.0000 - mse: 110963152.0000\n",
      "Epoch 71/100\n",
      "12893/12893 [==============================] - 23s 2ms/step - loss: 110962864.0000 - mse: 110962864.0000\n",
      "Epoch 72/100\n",
      "12893/12893 [==============================] - 22s 2ms/step - loss: 110962712.0000 - mse: 110962712.0000\n",
      "Epoch 73/100\n",
      "12893/12893 [==============================] - 22s 2ms/step - loss: 110962640.0000 - mse: 110962640.0000\n",
      "Epoch 74/100\n",
      "12893/12893 [==============================] - 22s 2ms/step - loss: 110962776.0000 - mse: 110962776.0000\n",
      "Epoch 75/100\n",
      "12893/12893 [==============================] - 22s 2ms/step - loss: 110962864.0000 - mse: 110962864.0000\n",
      "Epoch 76/100\n",
      "12893/12893 [==============================] - 24s 2ms/step - loss: 110962592.0000 - mse: 110962592.0000\n",
      "Epoch 77/100\n",
      "12893/12893 [==============================] - 23s 2ms/step - loss: 110962528.0000 - mse: 110962528.0000\n",
      "Epoch 78/100\n",
      "12893/12893 [==============================] - 23s 2ms/step - loss: 110962552.0000 - mse: 110962552.0000\n",
      "Epoch 79/100\n",
      "12893/12893 [==============================] - 23s 2ms/step - loss: 110962408.0000 - mse: 110962408.0000\n",
      "Epoch 80/100\n",
      "12893/12893 [==============================] - 23s 2ms/step - loss: 110962584.0000 - mse: 110962584.0000\n",
      "Epoch 81/100\n",
      "12893/12893 [==============================] - 22s 2ms/step - loss: 110962928.0000 - mse: 110962928.0000\n",
      "Epoch 82/100\n",
      "12893/12893 [==============================] - 22s 2ms/step - loss: 110962656.0000 - mse: 110962656.0000\n",
      "Epoch 83/100\n",
      "12893/12893 [==============================] - 23s 2ms/step - loss: 110962480.0000 - mse: 110962480.0000\n",
      "Epoch 84/100\n",
      "12893/12893 [==============================] - 22s 2ms/step - loss: 110962320.0000 - mse: 110962320.0000\n",
      "Epoch 85/100\n",
      "12893/12893 [==============================] - 22s 2ms/step - loss: 110962472.0000 - mse: 110962472.0000\n",
      "Epoch 86/100\n",
      "12893/12893 [==============================] - 22s 2ms/step - loss: 110962736.0000 - mse: 110962736.0000\n",
      "Epoch 87/100\n",
      "12893/12893 [==============================] - 22s 2ms/step - loss: 110962888.0000 - mse: 110962888.0000\n",
      "Epoch 88/100\n",
      "12893/12893 [==============================] - 21s 2ms/step - loss: 110962576.0000 - mse: 110962576.0000\n",
      "Epoch 89/100\n",
      "12893/12893 [==============================] - 24s 2ms/step - loss: 110962440.0000 - mse: 110962440.0000\n",
      "Epoch 90/100\n",
      "12893/12893 [==============================] - 21s 2ms/step - loss: 110962464.0000 - mse: 110962464.0000\n",
      "Epoch 91/100\n",
      "12893/12893 [==============================] - 22s 2ms/step - loss: 110962672.0000 - mse: 110962672.0000\n",
      "Epoch 92/100\n",
      "12893/12893 [==============================] - 22s 2ms/step - loss: 110962592.0000 - mse: 110962592.0000\n",
      "Epoch 93/100\n",
      "12893/12893 [==============================] - 21s 2ms/step - loss: 110962280.0000 - mse: 110962280.0000\n",
      "Epoch 94/100\n",
      "12893/12893 [==============================] - 21s 2ms/step - loss: 110962640.0000 - mse: 110962640.0000\n",
      "Epoch 95/100\n",
      "12893/12893 [==============================] - 23s 2ms/step - loss: 110962248.0000 - mse: 110962248.0000\n",
      "Epoch 96/100\n",
      "12893/12893 [==============================] - 22s 2ms/step - loss: 110962240.0000 - mse: 110962240.0000\n",
      "Epoch 97/100\n",
      "12893/12893 [==============================] - 22s 2ms/step - loss: 110962600.0000 - mse: 110962600.0000\n",
      "Epoch 98/100\n",
      "12893/12893 [==============================] - 23s 2ms/step - loss: 110962888.0000 - mse: 110962888.0000\n",
      "Epoch 99/100\n",
      "12893/12893 [==============================] - 21s 2ms/step - loss: 110962288.0000 - mse: 110962288.0000\n",
      "Epoch 100/100\n",
      "12893/12893 [==============================] - 21s 2ms/step - loss: 110962744.0000 - mse: 110962744.0000\n",
      "\n",
      "ANN Regression\n",
      "Root Mean Squared Error: 10547.38%\n"
     ]
    }
   ],
   "source": [
    "# Build our ANN model\n",
    "import tensorflow as tf\n",
    "ann = tf.keras.models.Sequential()\n",
    "\n",
    "# Adding 2 hidden layers\n",
    "ann.add(tf.keras.layers.Dense(units = 3, activation = 'relu'))\n",
    "ann.add(tf.keras.layers.Dense(units = 3, activation = 'relu'))\n",
    "\n",
    "# Adding the output layer\n",
    "ann.add(tf.keras.layers.Dense(units=1, activation = 'sigmoid'))\n",
    "\n",
    "# Compiling our ann\n",
    "ann.compile(optimizer = 'adam', loss = 'mean_squared_error', metrics=['mse'])\n",
    "\n",
    "# Train our ANN model\n",
    "ann.fit(X_train, y_train, batch_size = 32, epochs = 100)\n",
    "\n",
    "y_pred = ann.predict(X_test)\n",
    "\n",
    "print()\n",
    "# ANN Regression\n",
    "print(\"ANN Regression\")\n",
    "# Root Mean Squared Error\n",
    "print(\"Root Mean Squared Error: {:.2f}%\".format(mean_squared_error(y_test, y_pred, squared=False)))\n",
    "ann_rmse = mean_squared_error(y_test, y_pred, squared=False)"
   ]
  },
  {
   "cell_type": "code",
   "execution_count": 19,
   "id": "b84291b5",
   "metadata": {
    "execution": {
     "iopub.execute_input": "2022-02-07T07:22:21.847796Z",
     "iopub.status.busy": "2022-02-07T07:22:21.846655Z",
     "iopub.status.idle": "2022-02-07T07:22:22.105354Z",
     "shell.execute_reply": "2022-02-07T07:22:22.104652Z"
    },
    "papermill": {
     "duration": 15.336741,
     "end_time": "2022-02-07T07:22:22.105516",
     "exception": false,
     "start_time": "2022-02-07T07:22:06.768775",
     "status": "completed"
    },
    "tags": []
   },
   "outputs": [
    {
     "data": {
      "image/png": "[encoded data removed]",
      "text/plain": [
       "<Figure size 432x288 with 1 Axes>"
      ]
     },
     "metadata": {
      "needs_background": "light"
     },
     "output_type": "display_data"
    }
   ],
   "source": [
    "# Barplot their RMSE Scores\n",
    "import matplotlib.colors as mcolors\n",
    "rmse_scores = [pr_rmse, br_rmse, en_rmse, ann_rmse]\n",
    "models = ['Polynomial', 'Bayesian Ridge', 'ElasticNet', 'ANN']\n",
    "\n",
    "p = plt.bar(height = rmse_scores, x = models, \n",
    "            color = mcolors.TABLEAU_COLORS)\n",
    "plt.title('Evaluating Various Regression Models')\n",
    "plt.xlabel('Regression Models')\n",
    "plt.ylabel('RMSE Score')\n",
    "plt.legend(p, models, loc = 'best', fontsize = 'medium')\n",
    "for bar in p:\n",
    "    yval = bar.get_height()\n",
    "    plt.text(bar.get_x(), np.around(yval, 2) + 100, np.around(yval, 2))\n",
    "plt.show()"
   ]
  },
  {
   "cell_type": "markdown",
   "id": "4f483181",
   "metadata": {
    "papermill": {
     "duration": 15.402112,
     "end_time": "2022-02-07T07:22:52.812795",
     "exception": false,
     "start_time": "2022-02-07T07:22:37.410683",
     "status": "completed"
    },
    "tags": []
   },
   "source": [
    "**We can see that the best model is by utilizing the Polynomial Regression Model. However, we can improve this by applying the hyperparameter tuning and utilizing different Regression models.**"
   ]
  }
 ],
 "metadata": {
  "kernelspec": {
   "display_name": "Python 3",
   "language": "python",
   "name": "python3"
  },
  "language_info": {
   "codemirror_mode": {
    "name": "ipython",
    "version": 3
   },
   "file_extension": ".py",
   "mimetype": "text/x-python",
   "name": "python",
   "nbconvert_exporter": "python",
   "pygments_lexer": "ipython3",
   "version": "3.7.12"
  },
  "papermill": {
   "default_parameters": {},
   "duration": 2363.521813,
   "end_time": "2022-02-07T07:23:11.431253",
   "environment_variables": {},
   "exception": null,
   "input_path": "__notebook__.ipynb",
   "output_path": "__notebook__.ipynb",
   "parameters": {},
   "start_time": "2022-02-07T06:43:47.909440",
   "version": "2.3.3"
  }
 },
 "nbformat": 4,
 "nbformat_minor": 5
}
